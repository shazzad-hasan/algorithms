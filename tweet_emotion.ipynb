{
  "nbformat": 4,
  "nbformat_minor": 0,
  "metadata": {
    "colab": {
      "name": "tweet_emotion.ipynb",
      "provenance": [],
      "machine_shape": "hm",
      "authorship_tag": "ABX9TyNgow78E1tVR3PFugg8/x+n",
      "include_colab_link": true
    },
    "kernelspec": {
      "name": "python3",
      "display_name": "Python 3"
    },
    "language_info": {
      "name": "python"
    },
    "accelerator": "GPU"
  },
  "cells": [
    {
      "cell_type": "markdown",
      "metadata": {
        "id": "view-in-github",
        "colab_type": "text"
      },
      "source": [
        "<a href=\"https://colab.research.google.com/github/shazzad-hasan/Algorithms/blob/main/tweet_emotion.ipynb\" target=\"_parent\"><img src=\"https://colab.research.google.com/assets/colab-badge.svg\" alt=\"Open In Colab\"/></a>"
      ]
    },
    {
      "cell_type": "code",
      "execution_count": null,
      "metadata": {
        "id": "Zh2xjM0J8uRG",
        "outputId": "6ca634d5-ebdf-4c99-96a9-3f0666a25fbb",
        "colab": {
          "base_uri": "https://localhost:8080/"
        }
      },
      "outputs": [
        {
          "output_type": "stream",
          "name": "stdout",
          "text": [
            "Looking in indexes: https://pypi.org/simple, https://us-python.pkg.dev/colab-wheels/public/simple/\n",
            "Requirement already satisfied: nlp in /usr/local/lib/python3.7/dist-packages (0.4.0)\n",
            "Requirement already satisfied: requests>=2.19.0 in /usr/local/lib/python3.7/dist-packages (from nlp) (2.23.0)\n",
            "Requirement already satisfied: filelock in /usr/local/lib/python3.7/dist-packages (from nlp) (3.7.0)\n",
            "Requirement already satisfied: tqdm>=4.27 in /usr/local/lib/python3.7/dist-packages (from nlp) (4.64.0)\n",
            "Requirement already satisfied: pandas in /usr/local/lib/python3.7/dist-packages (from nlp) (1.3.5)\n",
            "Requirement already satisfied: dill in /usr/local/lib/python3.7/dist-packages (from nlp) (0.3.5.1)\n",
            "Requirement already satisfied: numpy in /usr/local/lib/python3.7/dist-packages (from nlp) (1.21.6)\n",
            "Requirement already satisfied: xxhash in /usr/local/lib/python3.7/dist-packages (from nlp) (3.0.0)\n",
            "Requirement already satisfied: pyarrow>=0.16.0 in /usr/local/lib/python3.7/dist-packages (from nlp) (6.0.1)\n",
            "Requirement already satisfied: certifi>=2017.4.17 in /usr/local/lib/python3.7/dist-packages (from requests>=2.19.0->nlp) (2022.5.18.1)\n",
            "Requirement already satisfied: idna<3,>=2.5 in /usr/local/lib/python3.7/dist-packages (from requests>=2.19.0->nlp) (2.10)\n",
            "Requirement already satisfied: chardet<4,>=3.0.2 in /usr/local/lib/python3.7/dist-packages (from requests>=2.19.0->nlp) (3.0.4)\n",
            "Requirement already satisfied: urllib3!=1.25.0,!=1.25.1,<1.26,>=1.21.1 in /usr/local/lib/python3.7/dist-packages (from requests>=2.19.0->nlp) (1.24.3)\n",
            "Requirement already satisfied: python-dateutil>=2.7.3 in /usr/local/lib/python3.7/dist-packages (from pandas->nlp) (2.8.2)\n",
            "Requirement already satisfied: pytz>=2017.3 in /usr/local/lib/python3.7/dist-packages (from pandas->nlp) (2022.1)\n",
            "Requirement already satisfied: six>=1.5 in /usr/local/lib/python3.7/dist-packages (from python-dateutil>=2.7.3->pandas->nlp) (1.15.0)\n"
          ]
        }
      ],
      "source": [
        "!pip install nlp"
      ]
    },
    {
      "cell_type": "code",
      "source": [
        "# import required libraries\n",
        "\n",
        "import numpy as np\n",
        "import random\n",
        "import matplotlib.pyplot as plt\n",
        "\n",
        "%matplotlib inline"
      ],
      "metadata": {
        "id": "m2UyD7_l_gXv"
      },
      "execution_count": null,
      "outputs": []
    },
    {
      "cell_type": "markdown",
      "source": [
        "### Load and visualize dataset"
      ],
      "metadata": {
        "id": "xq5kADUCUK1L"
      }
    },
    {
      "cell_type": "code",
      "source": [
        "import nlp\n",
        "\n",
        "# load tweet emotion dataset from huggingface nlp module\n",
        "dataset = nlp.load_dataset(\"emotion\")"
      ],
      "metadata": {
        "id": "s2CBixsBFZYH",
        "outputId": "64749347-4cf7-451f-b727-d8c9e2bbdcc6",
        "colab": {
          "base_uri": "https://localhost:8080/"
        }
      },
      "execution_count": null,
      "outputs": [
        {
          "output_type": "stream",
          "name": "stderr",
          "text": [
            "Using custom data configuration default\n"
          ]
        }
      ]
    },
    {
      "cell_type": "code",
      "source": [
        "dataset"
      ],
      "metadata": {
        "id": "m5e-iqaqRDPo",
        "outputId": "675a284a-ab94-427a-9e86-595677279c64",
        "colab": {
          "base_uri": "https://localhost:8080/"
        }
      },
      "execution_count": null,
      "outputs": [
        {
          "output_type": "execute_result",
          "data": {
            "text/plain": [
              "{'test': Dataset(features: {'text': Value(dtype='string', id=None), 'label': Value(dtype='string', id=None)}, num_rows: 2000),\n",
              " 'train': Dataset(features: {'text': Value(dtype='string', id=None), 'label': Value(dtype='string', id=None)}, num_rows: 16000),\n",
              " 'validation': Dataset(features: {'text': Value(dtype='string', id=None), 'label': Value(dtype='string', id=None)}, num_rows: 2000)}"
            ]
          },
          "metadata": {},
          "execution_count": 4
        }
      ]
    },
    {
      "cell_type": "code",
      "source": [
        "# obtain training, validation and test datasets\n",
        "train_data = dataset['train']\n",
        "valid_data = dataset['validation']\n",
        "test_data = dataset['test']"
      ],
      "metadata": {
        "id": "SA4bczcnLVKm"
      },
      "execution_count": null,
      "outputs": []
    },
    {
      "cell_type": "code",
      "source": [
        "# obtain tweets and labels from the data\n",
        "def get_tweet(data):\n",
        "  tweets = [x['text'] for x in data] # obtain tweets\n",
        "  labels = [x['label'] for x in data] # obtain tweets labels\n",
        "  return tweets, labels\n",
        "\n",
        "# obtain tweets, labels \n",
        "train_tweets, train_labels = get_tweet(train_data)\n",
        "valid_tweets, valid_labels = get_tweet(valid_data)\n",
        "test_tweets, test_labels = get_tweet(test_data)\n",
        "\n",
        "\n",
        "# let's see first 10 tweets and corresponding labels\n",
        "for i in range(10):\n",
        "  print(\"({}, {})\".format(train_tweets[i], train_labels[i]))"
      ],
      "metadata": {
        "id": "PO5cWTKlRBY_",
        "outputId": "f7fbd0bf-3987-4db2-eeb8-4c9e844d0466",
        "colab": {
          "base_uri": "https://localhost:8080/"
        }
      },
      "execution_count": null,
      "outputs": [
        {
          "output_type": "stream",
          "name": "stdout",
          "text": [
            "(i didnt feel humiliated, sadness)\n",
            "(i can go from feeling so hopeless to so damned hopeful just from being around someone who cares and is awake, sadness)\n",
            "(im grabbing a minute to post i feel greedy wrong, anger)\n",
            "(i am ever feeling nostalgic about the fireplace i will know that it is still on the property, love)\n",
            "(i am feeling grouchy, anger)\n",
            "(ive been feeling a little burdened lately wasnt sure why that was, sadness)\n",
            "(ive been taking or milligrams or times recommended amount and ive fallen asleep a lot faster but i also feel like so funny, surprise)\n",
            "(i feel as confused about life as a teenager or as jaded as a year old man, fear)\n",
            "(i have been with petronas for years i feel that petronas has performed well and made a huge profit, joy)\n",
            "(i feel romantic too, love)\n"
          ]
        }
      ]
    },
    {
      "cell_type": "code",
      "source": [],
      "metadata": {
        "id": "x-1QBUB81FOu"
      },
      "execution_count": null,
      "outputs": []
    },
    {
      "cell_type": "markdown",
      "source": [
        "### Pre-process the dataset"
      ],
      "metadata": {
        "id": "AqNDfcCMURxo"
      }
    },
    {
      "cell_type": "markdown",
      "source": [
        "##### Prepare tweets"
      ],
      "metadata": {
        "id": "Vinn7ftqfCzH"
      }
    },
    {
      "cell_type": "code",
      "source": [
        "from tensorflow.keras.preprocessing.text import Tokenizer\n",
        "\n",
        "# Tokenize the tweets\n",
        "\n",
        "# let's tokenize 10,000 most commonly used words\n",
        "tokenizer = Tokenizer(num_words=1000, oov_token=\"UNK\")\n",
        "tokenizer.fit_on_texts(train_tweets)\n",
        "\n",
        "# lets see the tokinization of a tweet\n",
        "print(\"{} ---> {}\".format(train_tweets[0], tokenizer.texts_to_sequences([train_tweets[0]])))"
      ],
      "metadata": {
        "id": "KAnS8psxRBcO",
        "outputId": "0eaf2c01-7e89-4f06-852c-30ec403e42bc",
        "colab": {
          "base_uri": "https://localhost:8080/"
        }
      },
      "execution_count": null,
      "outputs": [
        {
          "output_type": "stream",
          "name": "stdout",
          "text": [
            "i didnt feel humiliated ---> [[2, 139, 3, 679]]\n"
          ]
        }
      ]
    },
    {
      "cell_type": "code",
      "source": [
        "# check length of the tweets\n",
        "lengths = [len(twt.split(\" \")) for twt in train_tweets]\n",
        "plt.hist(lengths, bins=len(set(lengths)))\n",
        "plt.show()"
      ],
      "metadata": {
        "id": "wAKET1tnRBhl",
        "outputId": "efe44b0b-cdee-4899-cd69-6b547651f318",
        "colab": {
          "base_uri": "https://localhost:8080/",
          "height": 265
        }
      },
      "execution_count": null,
      "outputs": [
        {
          "output_type": "display_data",
          "data": {
            "text/plain": [
              "<Figure size 432x288 with 1 Axes>"
            ],
            "image/png": "[encoded data removed]"
          },
          "metadata": {
            "needs_background": "light"
          }
        }
      ]
    },
    {
      "cell_type": "code",
      "source": [
        "from tensorflow.keras.preprocessing.sequence import pad_sequences\n",
        "\n",
        "# Padding and Truncating sequences\n",
        "\n",
        "maxlen = 50\n",
        "\n",
        "def get_sequences(tokenizer, tweets):\n",
        "  # tokenize tweets\n",
        "  sequences = tokenizer.texts_to_sequences(tweets)\n",
        "  # obtain padded and truncated sequences\n",
        "  padded_seqs = pad_sequences(sequences, truncating=\"post\", padding=\"post\", maxlen=maxlen)\n",
        "  return padded_seqs\n",
        "\n",
        "# obtain padded and truncated sequences\n",
        "padded_train_seq = get_sequences(tokenizer, train_tweets)\n",
        "padded_valid_seq = get_sequences(tokenizer, valid_tweets)\n",
        "padded_test_seq = get_sequences(tokenizer, test_tweets)\n",
        "\n",
        "print(\"{}, \\n{}\".format(train_tweets[0], padded_train_seq[0]))"
      ],
      "metadata": {
        "id": "vo-GTlIwZI6b",
        "outputId": "138c2dab-88bf-46ea-aa6e-4f5480c10e2b",
        "colab": {
          "base_uri": "https://localhost:8080/"
        }
      },
      "execution_count": null,
      "outputs": [
        {
          "output_type": "stream",
          "name": "stdout",
          "text": [
            "i didnt feel humiliated, \n",
            "[  2 139   3 679   0   0   0   0   0   0   0   0   0   0   0   0   0   0\n",
            "   0   0   0   0   0   0   0   0   0   0   0   0   0   0   0   0   0   0\n",
            "   0   0   0   0   0   0   0   0   0   0   0   0   0   0]\n"
          ]
        }
      ]
    },
    {
      "cell_type": "markdown",
      "source": [
        "##### Prepare labels"
      ],
      "metadata": {
        "id": "uzcU8qX2fILN"
      }
    },
    {
      "cell_type": "code",
      "source": [
        "classes = set(train_labels)\n",
        "print(classes)"
      ],
      "metadata": {
        "id": "-abhXUKDdl5m",
        "outputId": "5d1f4fe3-c6e4-441a-d257-bd8a1a81e40d",
        "colab": {
          "base_uri": "https://localhost:8080/"
        }
      },
      "execution_count": null,
      "outputs": [
        {
          "output_type": "stream",
          "name": "stdout",
          "text": [
            "{'sadness', 'fear', 'joy', 'anger', 'surprise', 'love'}\n"
          ]
        }
      ]
    },
    {
      "cell_type": "code",
      "source": [
        "# visualize number of examples for different classes\n",
        "plt.hist(train_labels, bins=12)\n",
        "plt.show()"
      ],
      "metadata": {
        "id": "s2tmG6YYkwQn",
        "outputId": "b4a9d8da-c544-4e28-d954-9fe5562c523e",
        "colab": {
          "base_uri": "https://localhost:8080/",
          "height": 265
        }
      },
      "execution_count": null,
      "outputs": [
        {
          "output_type": "display_data",
          "data": {
            "text/plain": [
              "<Figure size 432x288 with 1 Axes>"
            ],
            "image/png": "[encoded data removed]"
          },
          "metadata": {
            "needs_background": "light"
          }
        }
      ]
    },
    {
      "cell_type": "code",
      "source": [
        "# create class to index dict\n",
        "class_to_idx = dict((c, i) for i, c in enumerate(classes))\n",
        "# create index to class dict\n",
        "idx_to_class = dict((v, k) for k, v in class_to_idx.items())\n",
        "\n",
        "print(class_to_idx)\n",
        "print(idx_to_class)"
      ],
      "metadata": {
        "id": "Wl2Ix2kyk80f",
        "outputId": "032a890c-cc26-4ed2-e464-66099d23be18",
        "colab": {
          "base_uri": "https://localhost:8080/"
        }
      },
      "execution_count": null,
      "outputs": [
        {
          "output_type": "stream",
          "name": "stdout",
          "text": [
            "{'sadness': 0, 'fear': 1, 'joy': 2, 'anger': 3, 'surprise': 4, 'love': 5}\n",
            "{0: 'sadness', 1: 'fear', 2: 'joy', 3: 'anger', 4: 'surprise', 5: 'love'}\n"
          ]
        }
      ]
    },
    {
      "cell_type": "code",
      "source": [
        "# convert text labels to numeric labels\n",
        "\n",
        "names_to_ids = lambda labels: np.array([class_to_idx.get(x) for x in labels])\n",
        "\n",
        "train_labels = names_to_ids(train_labels)\n",
        "valid_labels = names_to_ids(valid_labels)\n",
        "test_labels = names_to_ids(test_labels)\n",
        "\n",
        "print(train_labels[0])"
      ],
      "metadata": {
        "id": "OdCobuLBl9jx",
        "outputId": "4a6585e9-9991-4694-89cf-e2c89c58d858",
        "colab": {
          "base_uri": "https://localhost:8080/"
        }
      },
      "execution_count": null,
      "outputs": [
        {
          "output_type": "stream",
          "name": "stdout",
          "text": [
            "0\n"
          ]
        }
      ]
    },
    {
      "cell_type": "markdown",
      "source": [
        "### Define a neural network"
      ],
      "metadata": {
        "id": "Vty6NyyIplEH"
      }
    },
    {
      "cell_type": "code",
      "source": [
        "from tensorflow import keras\n",
        "from tensorflow.keras import layers\n",
        "\n",
        "model = keras.models.Sequential([\n",
        "            layers.Embedding(10000, 16, input_length=maxlen),\n",
        "            layers.Bidirectional(keras.layers.LSTM(20, return_sequences=True)),\n",
        "            layers.Bidirectional(keras.layers.LSTM(20)),\n",
        "            layers.Dense(6, activation=\"softmax\")\n",
        "])\n",
        "\n",
        "model.summary()"
      ],
      "metadata": {
        "id": "ccAnwNghmYvf",
        "outputId": "ee6f5efd-2986-4c3d-ce67-4c8e01d50400",
        "colab": {
          "base_uri": "https://localhost:8080/"
        }
      },
      "execution_count": null,
      "outputs": [
        {
          "output_type": "stream",
          "name": "stdout",
          "text": [
            "Model: \"sequential\"\n",
            "_________________________________________________________________\n",
            " Layer (type)                Output Shape              Param #   \n",
            "=================================================================\n",
            " embedding (Embedding)       (None, 50, 16)            160000    \n",
            "                                                                 \n",
            " bidirectional (Bidirectiona  (None, 50, 40)           5920      \n",
            " l)                                                              \n",
            "                                                                 \n",
            " bidirectional_1 (Bidirectio  (None, 40)               9760      \n",
            " nal)                                                            \n",
            "                                                                 \n",
            " dense (Dense)               (None, 6)                 246       \n",
            "                                                                 \n",
            "=================================================================\n",
            "Total params: 175,926\n",
            "Trainable params: 175,926\n",
            "Non-trainable params: 0\n",
            "_________________________________________________________________\n"
          ]
        }
      ]
    },
    {
      "cell_type": "markdown",
      "source": [
        "### Define a loss function and optimizer"
      ],
      "metadata": {
        "id": "9Ic3NucvMLes"
      }
    },
    {
      "cell_type": "code",
      "source": [
        "model.compile(optimizer=\"adam\", loss=\"sparse_categorical_crossentropy\", metrics=[\"accuracy\"])"
      ],
      "metadata": {
        "id": "w9GL0gqtMH3A"
      },
      "execution_count": null,
      "outputs": []
    },
    {
      "cell_type": "markdown",
      "source": [
        "### Train the model"
      ],
      "metadata": {
        "id": "UhJ6OK6fMQDt"
      }
    },
    {
      "cell_type": "code",
      "source": [
        "callbacks=[keras.callbacks.EarlyStopping(monitor=\"val_accuracy\", patience=2)]\n",
        "history = model.fit(padded_train_seq, train_labels, \n",
        "                    validation_data=(padded_valid_seq, valid_labels),\n",
        "                    epochs=20,\n",
        "                    callbacks=callbacks)"
      ],
      "metadata": {
        "id": "YOX4sIsRwwOs",
        "outputId": "6202e793-d3db-4581-e1eb-6473c7766723",
        "colab": {
          "base_uri": "https://localhost:8080/"
        }
      },
      "execution_count": null,
      "outputs": [
        {
          "output_type": "stream",
          "name": "stdout",
          "text": [
            "Epoch 1/20\n",
            "500/500 [==============================] - 13s 14ms/step - loss: 1.3553 - accuracy: 0.4556 - val_loss: 0.9164 - val_accuracy: 0.6760\n",
            "Epoch 2/20\n",
            "500/500 [==============================] - 5s 10ms/step - loss: 0.6995 - accuracy: 0.7509 - val_loss: 0.5955 - val_accuracy: 0.7860\n",
            "Epoch 3/20\n",
            "500/500 [==============================] - 5s 10ms/step - loss: 0.4847 - accuracy: 0.8275 - val_loss: 0.5155 - val_accuracy: 0.8170\n",
            "Epoch 4/20\n",
            "500/500 [==============================] - 5s 10ms/step - loss: 0.4108 - accuracy: 0.8524 - val_loss: 0.4514 - val_accuracy: 0.8335\n",
            "Epoch 5/20\n",
            "500/500 [==============================] - 5s 10ms/step - loss: 0.3594 - accuracy: 0.8691 - val_loss: 0.4536 - val_accuracy: 0.8440\n",
            "Epoch 6/20\n",
            "500/500 [==============================] - 5s 10ms/step - loss: 0.3355 - accuracy: 0.8756 - val_loss: 0.4238 - val_accuracy: 0.8480\n",
            "Epoch 7/20\n",
            "500/500 [==============================] - 5s 11ms/step - loss: 0.3135 - accuracy: 0.8824 - val_loss: 0.4128 - val_accuracy: 0.8420\n",
            "Epoch 8/20\n",
            "500/500 [==============================] - 5s 10ms/step - loss: 0.2918 - accuracy: 0.8879 - val_loss: 0.3919 - val_accuracy: 0.8615\n",
            "Epoch 9/20\n",
            "500/500 [==============================] - 5s 10ms/step - loss: 0.2828 - accuracy: 0.8896 - val_loss: 0.4040 - val_accuracy: 0.8615\n",
            "Epoch 10/20\n",
            "500/500 [==============================] - 5s 10ms/step - loss: 0.2642 - accuracy: 0.8959 - val_loss: 0.3940 - val_accuracy: 0.8580\n"
          ]
        }
      ]
    },
    {
      "cell_type": "code",
      "source": [
        "# plot training and validation loss\n",
        "\n",
        "acc = history.history['accuracy']\n",
        "val_acc = history.history['val_accuracy']\n",
        "\n",
        "loss = history.history['loss']\n",
        "val_loss = history.history['val_loss']\n",
        "\n",
        "epochs = 20\n",
        "epochs_range = range(0, len(acc))\n",
        "\n",
        "plt.figure(figsize=(12,5))\n",
        "plt.subplot(1, 2, 1)\n",
        "plt.plot(epochs_range, acc, label='Training Accuracy')\n",
        "plt.plot(epochs_range, val_acc, label='Validation Accuracy')\n",
        "plt.xlabel(\"Epochs\")\n",
        "plt.ylabel(\"Accuracy\")\n",
        "plt.ylim([0,1])\n",
        "plt.legend()\n",
        "plt.title('Training and Validation Accuracy')\n",
        "\n",
        "plt.subplot(1, 2, 2)\n",
        "plt.plot(epochs_range, loss, label='Training Loss')\n",
        "plt.plot(epochs_range, val_loss, label='Validation Loss')\n",
        "plt.xlabel(\"Epochs\")\n",
        "plt.ylabel(\"Loss\")\n",
        "plt.legend()\n",
        "plt.title('Training and Validation Loss')\n",
        "plt.show()"
      ],
      "metadata": {
        "id": "dX6LSLSCwwTO",
        "outputId": "529be25d-8a1e-419e-92ec-0ad49e3228fd",
        "colab": {
          "base_uri": "https://localhost:8080/",
          "height": 350
        }
      },
      "execution_count": null,
      "outputs": [
        {
          "output_type": "display_data",
          "data": {
            "text/plain": [
              "<Figure size 864x360 with 2 Axes>"
            ],
            "image/png": "[encoded data removed]"
          },
          "metadata": {
            "needs_background": "light"
          }
        }
      ]
    },
    {
      "cell_type": "markdown",
      "source": [
        "### Evaluate the model on the test dataset"
      ],
      "metadata": {
        "id": "JuvMAjwJmkE3"
      }
    },
    {
      "cell_type": "code",
      "source": [
        "# calculate test loss and accuracy\n",
        "\n",
        "test_loss, test_acc = model.evaluate(padded_test_seq, test_labels)\n",
        "print('Test Loss:', test_loss)\n",
        "print('Test Accuracy:', test_acc)"
      ],
      "metadata": {
        "id": "LTFrEOYYwwcp",
        "outputId": "68135b0a-3d91-44e5-d93e-ce483b16668a",
        "colab": {
          "base_uri": "https://localhost:8080/"
        }
      },
      "execution_count": null,
      "outputs": [
        {
          "output_type": "stream",
          "name": "stdout",
          "text": [
            "63/63 [==============================] - 0s 5ms/step - loss: 0.3664 - accuracy: 0.8610\n",
            "Test Loss: 0.3664265275001526\n",
            "Test Accuracy: 0.8610000014305115\n"
          ]
        }
      ]
    },
    {
      "cell_type": "code",
      "source": [
        "# test on a random test data\n",
        "i = random.randint(0, len(test_labels)-1)\n",
        "\n",
        "print(\"Sentence: \", test_tweets[i])\n",
        "print(\"Emotion: \", idx_to_class[test_labels[i]])\n",
        "\n",
        "p = model.predict(np.expand_dims(padded_test_seq[i], axis=0))[0]\n",
        "pred_class = idx_to_class[np.argmax(p).astype(\"uint8\")]\n",
        "print(\"Predicted Emotion: \", pred_class)"
      ],
      "metadata": {
        "id": "37Y0nWoAn-Si",
        "outputId": "790a65c8-fda7-49cc-a66a-a39049023b7b",
        "colab": {
          "base_uri": "https://localhost:8080/"
        }
      },
      "execution_count": null,
      "outputs": [
        {
          "output_type": "stream",
          "name": "stdout",
          "text": [
            "Sentence:  i feel so talented i can use a computer\n",
            "Emotion:  joy\n",
            "Predicted Emotion:  joy\n"
          ]
        }
      ]
    },
    {
      "cell_type": "code",
      "source": [
        "# plot confusion matrix\n",
        "\n",
        "from sklearn.metrics import confusion_matrix\n",
        "\n",
        "pred=model.predict(padded_test_seq) \n",
        "predictions=np.argmax(pred,axis=1)\n",
        "\n",
        "cm = confusion_matrix(test_labels, predictions, normalize=\"true\")\n",
        "\n",
        "plt.figure(figsize=(8,8))\n",
        "ax = plt.subplot(1,1,1)\n",
        "ctx = ax.matshow(cm)\n",
        "plt.xticks(list(range(0,6)), labels=list(classes))\n",
        "plt.yticks(list(range(0,6)), labels=list(classes))\n",
        "plt.colorbar(ctx)\n",
        "plt.show()"
      ],
      "metadata": {
        "id": "jFW7ivUEF0gt",
        "outputId": "6e2cdcd3-876b-491f-bb47-8ed6d675e748",
        "colab": {
          "base_uri": "https://localhost:8080/",
          "height": 472
        }
      },
      "execution_count": null,
      "outputs": [
        {
          "output_type": "display_data",
          "data": {
            "text/plain": [
              "<Figure size 576x576 with 2 Axes>"
            ],
            "image/png": "[encoded data removed]"
          },
          "metadata": {
            "needs_background": "light"
          }
        }
      ]
    },
    {
      "cell_type": "code",
      "source": [],
      "metadata": {
        "id": "eteTGI1fHEZh"
      },
      "execution_count": null,
      "outputs": []
    }
  ]
}